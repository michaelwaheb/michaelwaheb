{
  "nbformat": 4,
  "nbformat_minor": 0,
  "metadata": {
    "colab": {
      "provenance": [],
      "authorship_tag": "ABX9TyPHTLr/nLs7QsCrcdl3lmpE",
      "include_colab_link": true
    },
    "kernelspec": {
      "name": "python3",
      "display_name": "Python 3"
    },
    "language_info": {
      "name": "python"
    }
  },
  "cells": [
    {
      "cell_type": "markdown",
      "metadata": {
        "id": "view-in-github",
        "colab_type": "text"
      },
      "source": [
        "<a href=\"https://colab.research.google.com/github/michaelwaheb/michaelwaheb/blob/main/Untitled5.ipynb\" target=\"_parent\"><img src=\"https://colab.research.google.com/assets/colab-badge.svg\" alt=\"Open In Colab\"/></a>"
      ]
    },
    {
      "cell_type": "code",
      "execution_count": 3,
      "metadata": {
        "colab": {
          "base_uri": "https://localhost:8080/"
        },
        "id": "oVTjXEBGNQZ_",
        "outputId": "d75edca0-be88-4e1a-f3c2-90182f9dc250"
      },
      "outputs": [
        {
          "output_type": "stream",
          "name": "stdout",
          "text": [
            "\n",
            "Accuracy: 25.00%\n"
          ]
        }
      ],
      "source": [
        "import pandas as pd\n",
        "import requests\n",
        "import time\n",
        "\n",
        "# Load the Excel file\n",
        "df = pd.read_excel(\"/content/sample_data/GPC_Test_Products.xlsx\")\n",
        "\n",
        "# API configuration\n",
        "API_URL = \"https://ml.gsegdc.com:2053/v1/classify\"\n",
        "API_KEY = \"26269a82-b4f8-43c4-93f8-68af329f2443\"  # <<< Replace with your API key\n",
        "\n",
        "# Result tracking\n",
        "match_count = 0\n",
        "results = []\n",
        "\n",
        "# Loop over products\n",
        "for index, row in df.iterrows():\n",
        "    product_description = row[\"Product Name\"]\n",
        "    expected_brick = str(row[\"BrickCode\"]).strip()\n",
        "\n",
        "    payload = {\n",
        "        \"gtin\": \"62211234567898\",\n",
        "        \"product_description\": product_description\n",
        "    }\n",
        "\n",
        "    headers = {\n",
        "        \"accept\": \"application/json\",\n",
        "        \"Content-Type\": \"application/json\",\n",
        "        \"X-API-Key\": API_KEY\n",
        "    }\n",
        "\n",
        "    try:\n",
        "        response = requests.post(API_URL, json=payload, headers=headers)\n",
        "        response.raise_for_status()\n",
        "        data = response.json()\n",
        "\n",
        "        matched_bricks = data.get(\"result\", {}).get(\"matched_bricks\", [])\n",
        "        predicted_brick = matched_bricks[0][\"brick_code\"] if matched_bricks else None\n",
        "        is_match = predicted_brick == expected_brick\n",
        "\n",
        "        if is_match:\n",
        "            match_count += 1\n",
        "\n",
        "        results.append({\n",
        "            \"Product Name\": product_description,\n",
        "            \"Expected Brick\": expected_brick,\n",
        "            \"Predicted Brick\": predicted_brick,\n",
        "            \"Match\": is_match\n",
        "        })\n",
        "\n",
        "        time.sleep(0.5)  # Respectful API usage\n",
        "\n",
        "    except Exception as e:\n",
        "        print(f\"Error on row {index}: {e}\")\n",
        "        results.append({\n",
        "            \"Product Name\": product_description,\n",
        "            \"Expected Brick\": expected_brick,\n",
        "            \"Predicted Brick\": None,\n",
        "            \"Match\": False\n",
        "        })\n",
        "\n",
        "# Accuracy calculation\n",
        "accuracy = (match_count / len(df)) * 100\n",
        "print(f\"\\nAccuracy: {accuracy:.2f}%\")\n",
        "\n",
        "# Save results\n",
        "pd.DataFrame(results).to_excel(\"classification_results.xlsx\", index=False)\n"
      ]
    }
  ]
}